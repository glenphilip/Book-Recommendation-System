{
 "cells": [
  {
   "cell_type": "code",
   "execution_count": 1,
   "id": "initial_id",
   "metadata": {
    "ExecuteTime": {
     "end_time": "2024-12-18T15:59:20.204798Z",
     "start_time": "2024-12-18T15:59:19.962288Z"
    },
    "collapsed": true
   },
   "outputs": [],
   "source": [
    "import pandas as pd\n",
    "\n",
    "books = pd.read_csv(\"books_cleaned.csv\")"
   ]
  },
  {
   "cell_type": "code",
   "execution_count": 2,
   "id": "ad2214ca5c824e59",
   "metadata": {
    "ExecuteTime": {
     "end_time": "2024-12-18T15:59:21.456204Z",
     "start_time": "2024-12-18T15:59:21.448423Z"
    }
   },
   "outputs": [
    {
     "data": {
      "text/html": [
       "<div>\n",
       "<style scoped>\n",
       "    .dataframe tbody tr th:only-of-type {\n",
       "        vertical-align: middle;\n",
       "    }\n",
       "\n",
       "    .dataframe tbody tr th {\n",
       "        vertical-align: top;\n",
       "    }\n",
       "\n",
       "    .dataframe thead th {\n",
       "        text-align: right;\n",
       "    }\n",
       "</style>\n",
       "<table border=\"1\" class=\"dataframe\">\n",
       "  <thead>\n",
       "    <tr style=\"text-align: right;\">\n",
       "      <th></th>\n",
       "      <th>categories</th>\n",
       "      <th>count</th>\n",
       "    </tr>\n",
       "  </thead>\n",
       "  <tbody>\n",
       "    <tr>\n",
       "      <th>0</th>\n",
       "      <td>Fiction</td>\n",
       "      <td>2111</td>\n",
       "    </tr>\n",
       "    <tr>\n",
       "      <th>1</th>\n",
       "      <td>Juvenile Fiction</td>\n",
       "      <td>390</td>\n",
       "    </tr>\n",
       "    <tr>\n",
       "      <th>2</th>\n",
       "      <td>Biography &amp; Autobiography</td>\n",
       "      <td>311</td>\n",
       "    </tr>\n",
       "    <tr>\n",
       "      <th>3</th>\n",
       "      <td>History</td>\n",
       "      <td>207</td>\n",
       "    </tr>\n",
       "    <tr>\n",
       "      <th>4</th>\n",
       "      <td>Literary Criticism</td>\n",
       "      <td>124</td>\n",
       "    </tr>\n",
       "    <tr>\n",
       "      <th>...</th>\n",
       "      <td>...</td>\n",
       "      <td>...</td>\n",
       "    </tr>\n",
       "    <tr>\n",
       "      <th>474</th>\n",
       "      <td>Conspiracies</td>\n",
       "      <td>1</td>\n",
       "    </tr>\n",
       "    <tr>\n",
       "      <th>475</th>\n",
       "      <td>Brothers and sisters</td>\n",
       "      <td>1</td>\n",
       "    </tr>\n",
       "    <tr>\n",
       "      <th>476</th>\n",
       "      <td>Rock musicians</td>\n",
       "      <td>1</td>\n",
       "    </tr>\n",
       "    <tr>\n",
       "      <th>477</th>\n",
       "      <td>Community life</td>\n",
       "      <td>1</td>\n",
       "    </tr>\n",
       "    <tr>\n",
       "      <th>478</th>\n",
       "      <td>Indic fiction (English)</td>\n",
       "      <td>1</td>\n",
       "    </tr>\n",
       "  </tbody>\n",
       "</table>\n",
       "<p>479 rows × 2 columns</p>\n",
       "</div>"
      ],
      "text/plain": [
       "                    categories  count\n",
       "0                      Fiction   2111\n",
       "1             Juvenile Fiction    390\n",
       "2    Biography & Autobiography    311\n",
       "3                      History    207\n",
       "4           Literary Criticism    124\n",
       "..                         ...    ...\n",
       "474               Conspiracies      1\n",
       "475       Brothers and sisters      1\n",
       "476             Rock musicians      1\n",
       "477             Community life      1\n",
       "478    Indic fiction (English)      1\n",
       "\n",
       "[479 rows x 2 columns]"
      ]
     },
     "execution_count": 2,
     "metadata": {},
     "output_type": "execute_result"
    }
   ],
   "source": [
    "books[\"categories\"].value_counts().reset_index()"
   ]
  },
  {
   "cell_type": "code",
   "execution_count": 3,
   "id": "a07d62ea20b3d51f",
   "metadata": {
    "ExecuteTime": {
     "end_time": "2024-12-18T15:59:23.514830Z",
     "start_time": "2024-12-18T15:59:23.508154Z"
    }
   },
   "outputs": [
    {
     "data": {
      "text/html": [
       "<div>\n",
       "<style scoped>\n",
       "    .dataframe tbody tr th:only-of-type {\n",
       "        vertical-align: middle;\n",
       "    }\n",
       "\n",
       "    .dataframe tbody tr th {\n",
       "        vertical-align: top;\n",
       "    }\n",
       "\n",
       "    .dataframe thead th {\n",
       "        text-align: right;\n",
       "    }\n",
       "</style>\n",
       "<table border=\"1\" class=\"dataframe\">\n",
       "  <thead>\n",
       "    <tr style=\"text-align: right;\">\n",
       "      <th></th>\n",
       "      <th>categories</th>\n",
       "      <th>count</th>\n",
       "    </tr>\n",
       "  </thead>\n",
       "  <tbody>\n",
       "    <tr>\n",
       "      <th>0</th>\n",
       "      <td>Fiction</td>\n",
       "      <td>2111</td>\n",
       "    </tr>\n",
       "    <tr>\n",
       "      <th>1</th>\n",
       "      <td>Juvenile Fiction</td>\n",
       "      <td>390</td>\n",
       "    </tr>\n",
       "    <tr>\n",
       "      <th>2</th>\n",
       "      <td>Biography &amp; Autobiography</td>\n",
       "      <td>311</td>\n",
       "    </tr>\n",
       "    <tr>\n",
       "      <th>3</th>\n",
       "      <td>History</td>\n",
       "      <td>207</td>\n",
       "    </tr>\n",
       "    <tr>\n",
       "      <th>4</th>\n",
       "      <td>Literary Criticism</td>\n",
       "      <td>124</td>\n",
       "    </tr>\n",
       "    <tr>\n",
       "      <th>5</th>\n",
       "      <td>Philosophy</td>\n",
       "      <td>117</td>\n",
       "    </tr>\n",
       "    <tr>\n",
       "      <th>6</th>\n",
       "      <td>Religion</td>\n",
       "      <td>117</td>\n",
       "    </tr>\n",
       "    <tr>\n",
       "      <th>7</th>\n",
       "      <td>Comics &amp; Graphic Novels</td>\n",
       "      <td>116</td>\n",
       "    </tr>\n",
       "    <tr>\n",
       "      <th>8</th>\n",
       "      <td>Drama</td>\n",
       "      <td>86</td>\n",
       "    </tr>\n",
       "    <tr>\n",
       "      <th>9</th>\n",
       "      <td>Juvenile Nonfiction</td>\n",
       "      <td>57</td>\n",
       "    </tr>\n",
       "    <tr>\n",
       "      <th>10</th>\n",
       "      <td>Science</td>\n",
       "      <td>56</td>\n",
       "    </tr>\n",
       "    <tr>\n",
       "      <th>11</th>\n",
       "      <td>Poetry</td>\n",
       "      <td>51</td>\n",
       "    </tr>\n",
       "  </tbody>\n",
       "</table>\n",
       "</div>"
      ],
      "text/plain": [
       "                   categories  count\n",
       "0                     Fiction   2111\n",
       "1            Juvenile Fiction    390\n",
       "2   Biography & Autobiography    311\n",
       "3                     History    207\n",
       "4          Literary Criticism    124\n",
       "5                  Philosophy    117\n",
       "6                    Religion    117\n",
       "7     Comics & Graphic Novels    116\n",
       "8                       Drama     86\n",
       "9         Juvenile Nonfiction     57\n",
       "10                    Science     56\n",
       "11                     Poetry     51"
      ]
     },
     "execution_count": 3,
     "metadata": {},
     "output_type": "execute_result"
    }
   ],
   "source": [
    "books[\"categories\"].value_counts().reset_index().query(\"count > 50\")"
   ]
  },
  {
   "cell_type": "code",
   "execution_count": null,
   "id": "186b0d9c",
   "metadata": {},
   "outputs": [],
   "source": [
    "books[books[\"categories\"] == \"Juvenile Fiction\"]\n",
    "books[books[\"categories\"] == \"Juvenile Nonfiction\"]"
   ]
  },
  {
   "cell_type": "code",
   "execution_count": null,
   "id": "fcccab946dc6acf1",
   "metadata": {
    "ExecuteTime": {
     "end_time": "2024-12-18T15:59:30.210115Z",
     "start_time": "2024-12-18T15:59:30.206598Z"
    }
   },
   "outputs": [],
   "source": [
    "category_mapping = {'Fiction' : \"Fiction\",\n",
    " 'Juvenile Fiction': \"Children's Fiction\",\n",
    " 'Biography & Autobiography': \"Nonfiction\",\n",
    " 'History': \"Nonfiction\",\n",
    " 'Literary Criticism': \"Nonfiction\",\n",
    " 'Philosophy': \"Nonfiction\",\n",
    " 'Religion': \"Nonfiction\",\n",
    " 'Comics & Graphic Novels': \"Fiction\",\n",
    " 'Drama': \"Fiction\",\n",
    " 'Juvenile Nonfiction': \"Children's Nonfiction\",\n",
    " 'Science': \"Nonfiction\",\n",
    " 'Poetry': \"Fiction\"}\n",
    "\n",
    "books[\"simple_categories\"] = books[\"categories\"].map(category_mapping)\n",
    "books\n",
    "books[~(books[\"simple_categories\"].isna())]"
   ]
  },
  {
   "cell_type": "code",
   "execution_count": 9,
   "id": "5717b1b3f5008392",
   "metadata": {
    "ExecuteTime": {
     "end_time": "2024-12-18T16:00:47.996500Z",
     "start_time": "2024-12-18T16:00:39.834950Z"
    }
   },
   "outputs": [
    {
     "name": "stderr",
     "output_type": "stream",
     "text": [
      "Device set to use mps\n"
     ]
    }
   ],
   "source": [
    "from transformers import pipeline\n",
    "\n",
    "fiction_categories = [\"Fiction\", \"Nonfiction\"]\n",
    "\n",
    "pipe = pipeline(\"zero-shot-classification\",\n",
    "                model=\"facebook/bart-large-mnli\",\n",
    "                device=\"mps\")\n"
   ]
  },
  {
   "cell_type": "code",
   "execution_count": 11,
   "id": "264955275bb863cc",
   "metadata": {
    "ExecuteTime": {
     "end_time": "2024-12-19T08:45:23.188210Z",
     "start_time": "2024-12-19T08:45:23.185153Z"
    }
   },
   "outputs": [],
   "source": [
    "sequence = books.loc[books[\"simple_categories\"] == \"Fiction\", \"description\"].reset_index(drop=True)[0]"
   ]
  },
  {
   "cell_type": "code",
   "execution_count": 12,
   "id": "1fcfadda6deeaf8a",
   "metadata": {
    "ExecuteTime": {
     "end_time": "2024-12-19T08:46:50.472049Z",
     "start_time": "2024-12-19T08:46:50.120552Z"
    }
   },
   "outputs": [
    {
     "data": {
      "text/plain": [
       "{'sequence': 'A NOVEL THAT READERS and critics have been eagerly anticipating for over a decade, Gilead is an astonishingly imagined story of remarkable lives. John Ames is a preacher, the son of a preacher and the grandson (both maternal and paternal) of preachers. It’s 1956 in Gilead, Iowa, towards the end of the Reverend Ames’s life, and he is absorbed in recording his family’s story, a legacy for the young son he will never see grow up. Haunted by his grandfather’s presence, John tells of the rift between his grandfather and his father: the elder, an angry visionary who fought for the abolitionist cause, and his son, an ardent pacifist. He is troubled, too, by his prodigal namesake, Jack (John Ames) Boughton, his best friend’s lost son who returns to Gilead searching for forgiveness and redemption. Told in John Ames’s joyous, rambling voice that finds beauty, humour and truth in the smallest of life’s details, Gilead is a song of celebration and acceptance of the best and the worst the world has to offer. At its heart is a tale of the sacred bonds between fathers and sons, pitch-perfect in style and story, set to dazzle critics and readers alike.',\n",
       " 'labels': ['Fiction', 'Nonfiction'],\n",
       " 'scores': [0.8438265919685364, 0.15617339313030243]}"
      ]
     },
     "execution_count": 12,
     "metadata": {},
     "output_type": "execute_result"
    }
   ],
   "source": [
    "pipe(sequence, fiction_categories)"
   ]
  },
  {
   "cell_type": "code",
   "execution_count": 13,
   "id": "7db593c8c8658762",
   "metadata": {
    "ExecuteTime": {
     "end_time": "2024-12-19T08:48:34.899246Z",
     "start_time": "2024-12-19T08:48:34.668296Z"
    }
   },
   "outputs": [
    {
     "data": {
      "text/plain": [
       "'Fiction'"
      ]
     },
     "execution_count": 13,
     "metadata": {},
     "output_type": "execute_result"
    }
   ],
   "source": [
    "import numpy as np\n",
    "\n",
    "max_index = np.argmax(pipe(sequence, fiction_categories)[\"scores\"])\n",
    "max_label = pipe(sequence, fiction_categories)[\"labels\"][max_index]\n",
    "max_label"
   ]
  },
  {
   "cell_type": "code",
   "execution_count": 14,
   "id": "78b5bf4bf4a74fda",
   "metadata": {
    "ExecuteTime": {
     "end_time": "2024-12-19T08:50:12.761431Z",
     "start_time": "2024-12-19T08:50:12.759289Z"
    }
   },
   "outputs": [],
   "source": [
    "def generate_predictions(sequence, categories):\n",
    "    predictions = pipe(sequence, categories)\n",
    "    max_index = np.argmax(predictions[\"scores\"])\n",
    "    max_label = predictions[\"labels\"][max_index]\n",
    "    return max_label"
   ]
  },
  {
   "cell_type": "code",
   "execution_count": 15,
   "id": "1d1593f7feefdb08",
   "metadata": {
    "ExecuteTime": {
     "end_time": "2024-12-19T08:54:02.840824Z",
     "start_time": "2024-12-19T08:53:17.030562Z"
    }
   },
   "outputs": [
    {
     "name": "stderr",
     "output_type": "stream",
     "text": [
      "100%|██████████| 300/300 [00:45<00:00,  6.56it/s]\n"
     ]
    }
   ],
   "source": [
    "from tqdm import tqdm\n",
    "\n",
    "actual_cats = []\n",
    "predicted_cats = []\n",
    "\n",
    "for i in tqdm(range(0, 300)):\n",
    "    sequence = books.loc[books[\"simple_categories\"] == \"Fiction\", \"description\"].reset_index(drop=True)[i]\n",
    "    predicted_cats += [generate_predictions(sequence, fiction_categories)]\n",
    "    actual_cats += [\"Fiction\"]"
   ]
  },
  {
   "cell_type": "code",
   "execution_count": 16,
   "id": "184b55f4d97e9920",
   "metadata": {
    "ExecuteTime": {
     "end_time": "2024-12-19T08:54:54.859983Z",
     "start_time": "2024-12-19T08:54:05.321109Z"
    }
   },
   "outputs": [
    {
     "name": "stderr",
     "output_type": "stream",
     "text": [
      "100%|██████████| 300/300 [00:49<00:00,  6.06it/s]\n"
     ]
    }
   ],
   "source": [
    "for i in tqdm(range(0, 300)):\n",
    "    sequence = books.loc[books[\"simple_categories\"] == \"Nonfiction\", \"description\"].reset_index(drop=True)[i]\n",
    "    predicted_cats += [generate_predictions(sequence, fiction_categories)]\n",
    "    actual_cats += [\"Nonfiction\"]"
   ]
  },
  {
   "cell_type": "code",
   "execution_count": 17,
   "id": "bbddf92b0bb24cc8",
   "metadata": {
    "ExecuteTime": {
     "end_time": "2024-12-19T08:56:56.620378Z",
     "start_time": "2024-12-19T08:56:56.617933Z"
    }
   },
   "outputs": [],
   "source": [
    "predictions_df = pd.DataFrame({\"actual_categories\": actual_cats, \"predicted_categories\": predicted_cats})"
   ]
  },
  {
   "cell_type": "code",
   "execution_count": 18,
   "id": "aaa8844d7fdbc56",
   "metadata": {
    "ExecuteTime": {
     "end_time": "2024-12-19T08:57:02.904908Z",
     "start_time": "2024-12-19T08:57:02.901713Z"
    }
   },
   "outputs": [
    {
     "data": {
      "text/html": [
       "<div>\n",
       "<style scoped>\n",
       "    .dataframe tbody tr th:only-of-type {\n",
       "        vertical-align: middle;\n",
       "    }\n",
       "\n",
       "    .dataframe tbody tr th {\n",
       "        vertical-align: top;\n",
       "    }\n",
       "\n",
       "    .dataframe thead th {\n",
       "        text-align: right;\n",
       "    }\n",
       "</style>\n",
       "<table border=\"1\" class=\"dataframe\">\n",
       "  <thead>\n",
       "    <tr style=\"text-align: right;\">\n",
       "      <th></th>\n",
       "      <th>actual_categories</th>\n",
       "      <th>predicted_categories</th>\n",
       "    </tr>\n",
       "  </thead>\n",
       "  <tbody>\n",
       "    <tr>\n",
       "      <th>0</th>\n",
       "      <td>Fiction</td>\n",
       "      <td>Fiction</td>\n",
       "    </tr>\n",
       "    <tr>\n",
       "      <th>1</th>\n",
       "      <td>Fiction</td>\n",
       "      <td>Fiction</td>\n",
       "    </tr>\n",
       "    <tr>\n",
       "      <th>2</th>\n",
       "      <td>Fiction</td>\n",
       "      <td>Fiction</td>\n",
       "    </tr>\n",
       "    <tr>\n",
       "      <th>3</th>\n",
       "      <td>Fiction</td>\n",
       "      <td>Nonfiction</td>\n",
       "    </tr>\n",
       "    <tr>\n",
       "      <th>4</th>\n",
       "      <td>Fiction</td>\n",
       "      <td>Fiction</td>\n",
       "    </tr>\n",
       "    <tr>\n",
       "      <th>...</th>\n",
       "      <td>...</td>\n",
       "      <td>...</td>\n",
       "    </tr>\n",
       "    <tr>\n",
       "      <th>595</th>\n",
       "      <td>Nonfiction</td>\n",
       "      <td>Nonfiction</td>\n",
       "    </tr>\n",
       "    <tr>\n",
       "      <th>596</th>\n",
       "      <td>Nonfiction</td>\n",
       "      <td>Fiction</td>\n",
       "    </tr>\n",
       "    <tr>\n",
       "      <th>597</th>\n",
       "      <td>Nonfiction</td>\n",
       "      <td>Nonfiction</td>\n",
       "    </tr>\n",
       "    <tr>\n",
       "      <th>598</th>\n",
       "      <td>Nonfiction</td>\n",
       "      <td>Nonfiction</td>\n",
       "    </tr>\n",
       "    <tr>\n",
       "      <th>599</th>\n",
       "      <td>Nonfiction</td>\n",
       "      <td>Fiction</td>\n",
       "    </tr>\n",
       "  </tbody>\n",
       "</table>\n",
       "<p>600 rows × 2 columns</p>\n",
       "</div>"
      ],
      "text/plain": [
       "    actual_categories predicted_categories\n",
       "0             Fiction              Fiction\n",
       "1             Fiction              Fiction\n",
       "2             Fiction              Fiction\n",
       "3             Fiction           Nonfiction\n",
       "4             Fiction              Fiction\n",
       "..                ...                  ...\n",
       "595        Nonfiction           Nonfiction\n",
       "596        Nonfiction              Fiction\n",
       "597        Nonfiction           Nonfiction\n",
       "598        Nonfiction           Nonfiction\n",
       "599        Nonfiction              Fiction\n",
       "\n",
       "[600 rows x 2 columns]"
      ]
     },
     "execution_count": 18,
     "metadata": {},
     "output_type": "execute_result"
    }
   ],
   "source": [
    "predictions_df"
   ]
  },
  {
   "cell_type": "code",
   "execution_count": 19,
   "id": "ac6ddf718f0655e8",
   "metadata": {
    "ExecuteTime": {
     "end_time": "2024-12-19T08:58:44.314170Z",
     "start_time": "2024-12-19T08:58:44.311754Z"
    }
   },
   "outputs": [],
   "source": [
    "predictions_df[\"correct_prediction\"] = (\n",
    "    np.where(predictions_df[\"actual_categories\"] == predictions_df[\"predicted_categories\"], 1, 0)\n",
    ")"
   ]
  },
  {
   "cell_type": "code",
   "execution_count": 20,
   "id": "39ebc8cbf5ee1479",
   "metadata": {
    "ExecuteTime": {
     "end_time": "2024-12-19T08:58:51.653582Z",
     "start_time": "2024-12-19T08:58:51.650714Z"
    }
   },
   "outputs": [
    {
     "data": {
      "text/plain": [
       "0.7783333333333333"
      ]
     },
     "execution_count": 20,
     "metadata": {},
     "output_type": "execute_result"
    }
   ],
   "source": [
    "predictions_df[\"correct_prediction\"].sum() / len(predictions_df)"
   ]
  },
  {
   "cell_type": "code",
   "execution_count": 21,
   "id": "140bb061a604a0dd",
   "metadata": {
    "ExecuteTime": {
     "end_time": "2024-12-19T09:01:11.130789Z",
     "start_time": "2024-12-19T09:01:11.127407Z"
    }
   },
   "outputs": [],
   "source": [
    "isbns = []\n",
    "predicted_cats = []\n",
    "\n",
    "missing_cats = books.loc[books[\"simple_categories\"].isna(), [\"isbn13\", \"description\"]].reset_index(drop=True)"
   ]
  },
  {
   "cell_type": "code",
   "execution_count": 22,
   "id": "c0e0a92239bf2107",
   "metadata": {
    "ExecuteTime": {
     "end_time": "2024-12-19T09:03:50.279527Z",
     "start_time": "2024-12-19T09:01:57.171556Z"
    }
   },
   "outputs": [
    {
     "name": "stderr",
     "output_type": "stream",
     "text": [
      "100%|██████████| 1454/1454 [01:53<00:00, 12.86it/s]\n"
     ]
    }
   ],
   "source": [
    "for i in tqdm(range(0, len(missing_cats))):\n",
    "    sequence = missing_cats[\"description\"][i]\n",
    "    predicted_cats += [generate_predictions(sequence, fiction_categories)]\n",
    "    isbns += [missing_cats[\"isbn13\"][i]]"
   ]
  },
  {
   "cell_type": "code",
   "execution_count": 23,
   "id": "c37c1185dab11cd8",
   "metadata": {
    "ExecuteTime": {
     "end_time": "2024-12-19T09:05:13.030827Z",
     "start_time": "2024-12-19T09:05:13.026865Z"
    }
   },
   "outputs": [],
   "source": [
    "missing_predicted_df = pd.DataFrame({\"isbn13\": isbns, \"predicted_categories\": predicted_cats})"
   ]
  },
  {
   "cell_type": "code",
   "execution_count": 24,
   "id": "3c2bdc57ab262926",
   "metadata": {
    "ExecuteTime": {
     "end_time": "2024-12-19T09:05:15.748531Z",
     "start_time": "2024-12-19T09:05:15.744154Z"
    }
   },
   "outputs": [
    {
     "data": {
      "text/html": [
       "<div>\n",
       "<style scoped>\n",
       "    .dataframe tbody tr th:only-of-type {\n",
       "        vertical-align: middle;\n",
       "    }\n",
       "\n",
       "    .dataframe tbody tr th {\n",
       "        vertical-align: top;\n",
       "    }\n",
       "\n",
       "    .dataframe thead th {\n",
       "        text-align: right;\n",
       "    }\n",
       "</style>\n",
       "<table border=\"1\" class=\"dataframe\">\n",
       "  <thead>\n",
       "    <tr style=\"text-align: right;\">\n",
       "      <th></th>\n",
       "      <th>isbn13</th>\n",
       "      <th>predicted_categories</th>\n",
       "    </tr>\n",
       "  </thead>\n",
       "  <tbody>\n",
       "    <tr>\n",
       "      <th>0</th>\n",
       "      <td>9780002261982</td>\n",
       "      <td>Fiction</td>\n",
       "    </tr>\n",
       "    <tr>\n",
       "      <th>1</th>\n",
       "      <td>9780006280897</td>\n",
       "      <td>Nonfiction</td>\n",
       "    </tr>\n",
       "    <tr>\n",
       "      <th>2</th>\n",
       "      <td>9780006280934</td>\n",
       "      <td>Nonfiction</td>\n",
       "    </tr>\n",
       "    <tr>\n",
       "      <th>3</th>\n",
       "      <td>9780006380832</td>\n",
       "      <td>Nonfiction</td>\n",
       "    </tr>\n",
       "    <tr>\n",
       "      <th>4</th>\n",
       "      <td>9780006470229</td>\n",
       "      <td>Fiction</td>\n",
       "    </tr>\n",
       "    <tr>\n",
       "      <th>...</th>\n",
       "      <td>...</td>\n",
       "      <td>...</td>\n",
       "    </tr>\n",
       "    <tr>\n",
       "      <th>1449</th>\n",
       "      <td>9788125026600</td>\n",
       "      <td>Nonfiction</td>\n",
       "    </tr>\n",
       "    <tr>\n",
       "      <th>1450</th>\n",
       "      <td>9788171565641</td>\n",
       "      <td>Fiction</td>\n",
       "    </tr>\n",
       "    <tr>\n",
       "      <th>1451</th>\n",
       "      <td>9788172235222</td>\n",
       "      <td>Fiction</td>\n",
       "    </tr>\n",
       "    <tr>\n",
       "      <th>1452</th>\n",
       "      <td>9788173031014</td>\n",
       "      <td>Nonfiction</td>\n",
       "    </tr>\n",
       "    <tr>\n",
       "      <th>1453</th>\n",
       "      <td>9788179921623</td>\n",
       "      <td>Fiction</td>\n",
       "    </tr>\n",
       "  </tbody>\n",
       "</table>\n",
       "<p>1454 rows × 2 columns</p>\n",
       "</div>"
      ],
      "text/plain": [
       "             isbn13 predicted_categories\n",
       "0     9780002261982              Fiction\n",
       "1     9780006280897           Nonfiction\n",
       "2     9780006280934           Nonfiction\n",
       "3     9780006380832           Nonfiction\n",
       "4     9780006470229              Fiction\n",
       "...             ...                  ...\n",
       "1449  9788125026600           Nonfiction\n",
       "1450  9788171565641              Fiction\n",
       "1451  9788172235222              Fiction\n",
       "1452  9788173031014           Nonfiction\n",
       "1453  9788179921623              Fiction\n",
       "\n",
       "[1454 rows x 2 columns]"
      ]
     },
     "execution_count": 24,
     "metadata": {},
     "output_type": "execute_result"
    }
   ],
   "source": [
    "missing_predicted_df"
   ]
  },
  {
   "cell_type": "code",
   "execution_count": null,
   "id": "450b45dc6503a961",
   "metadata": {
    "ExecuteTime": {
     "end_time": "2024-12-19T09:07:30.513374Z",
     "start_time": "2024-12-19T09:07:30.506753Z"
    }
   },
   "outputs": [],
   "source": [
    "books = pd.merge(books, missing_predicted_df, on=\"isbn13\", how=\"left\")\n",
    "books[\"simple_categories\"] = np.where(books[\"simple_categories\"].isna(), books[\"predicted_categories\"], books[\"simple_categories\"])\n",
    "books = books.drop(columns = [\"predicted_categories\"])\n",
    "books"
   ]
  },
  {
   "cell_type": "code",
   "execution_count": 28,
   "id": "6a58208b3327eed3",
   "metadata": {
    "ExecuteTime": {
     "end_time": "2024-12-19T09:17:26.600489Z",
     "start_time": "2024-12-19T09:17:26.589851Z"
    }
   },
   "outputs": [
    {
     "data": {
      "text/html": [
       "<div>\n",
       "<style scoped>\n",
       "    .dataframe tbody tr th:only-of-type {\n",
       "        vertical-align: middle;\n",
       "    }\n",
       "\n",
       "    .dataframe tbody tr th {\n",
       "        vertical-align: top;\n",
       "    }\n",
       "\n",
       "    .dataframe thead th {\n",
       "        text-align: right;\n",
       "    }\n",
       "</style>\n",
       "<table border=\"1\" class=\"dataframe\">\n",
       "  <thead>\n",
       "    <tr style=\"text-align: right;\">\n",
       "      <th></th>\n",
       "      <th>isbn13</th>\n",
       "      <th>isbn10</th>\n",
       "      <th>title</th>\n",
       "      <th>authors</th>\n",
       "      <th>categories</th>\n",
       "      <th>thumbnail</th>\n",
       "      <th>description</th>\n",
       "      <th>published_year</th>\n",
       "      <th>average_rating</th>\n",
       "      <th>num_pages</th>\n",
       "      <th>ratings_count</th>\n",
       "      <th>title_and_subtitle</th>\n",
       "      <th>tagged_description</th>\n",
       "      <th>simple_categories</th>\n",
       "    </tr>\n",
       "  </thead>\n",
       "  <tbody>\n",
       "    <tr>\n",
       "      <th>24</th>\n",
       "      <td>9780006513087</td>\n",
       "      <td>0006513085</td>\n",
       "      <td>Gravity</td>\n",
       "      <td>Tess Gerritsen</td>\n",
       "      <td>Science fiction</td>\n",
       "      <td>http://books.google.com/books/content?id=KI66c...</td>\n",
       "      <td>Emma Watson a research physician has been trai...</td>\n",
       "      <td>2004.0</td>\n",
       "      <td>4.04</td>\n",
       "      <td>342.0</td>\n",
       "      <td>8024.0</td>\n",
       "      <td>Gravity</td>\n",
       "      <td>9780006513087 Emma Watson a research physician...</td>\n",
       "      <td>Nonfiction</td>\n",
       "    </tr>\n",
       "    <tr>\n",
       "      <th>475</th>\n",
       "      <td>9780099410355</td>\n",
       "      <td>0099410354</td>\n",
       "      <td>Traitor</td>\n",
       "      <td>Matthew Woodring Stover</td>\n",
       "      <td>Science fiction</td>\n",
       "      <td>http://books.google.com/books/content?id=VbICO...</td>\n",
       "      <td>From the depths of catastrophe, a glimmer of h...</td>\n",
       "      <td>2002.0</td>\n",
       "      <td>4.00</td>\n",
       "      <td>320.0</td>\n",
       "      <td>6765.0</td>\n",
       "      <td>Traitor</td>\n",
       "      <td>9780099410355 From the depths of catastrophe, ...</td>\n",
       "      <td>Fiction</td>\n",
       "    </tr>\n",
       "    <tr>\n",
       "      <th>478</th>\n",
       "      <td>9780099422341</td>\n",
       "      <td>0099422344</td>\n",
       "      <td>Yeats is Dead!</td>\n",
       "      <td>Joseph O'Connor</td>\n",
       "      <td>Comedy</td>\n",
       "      <td>http://books.google.com/books/content?id=DrE3I...</td>\n",
       "      <td>In aid of Amnesty International, this is a bri...</td>\n",
       "      <td>2002.0</td>\n",
       "      <td>3.39</td>\n",
       "      <td>298.0</td>\n",
       "      <td>34.0</td>\n",
       "      <td>Yeats is Dead!: A Novel by Fifteen Irish Writers</td>\n",
       "      <td>9780099422341 In aid of Amnesty International,...</td>\n",
       "      <td>Fiction</td>\n",
       "    </tr>\n",
       "    <tr>\n",
       "      <th>491</th>\n",
       "      <td>9780099446729</td>\n",
       "      <td>0099446723</td>\n",
       "      <td>Blackwood Farm</td>\n",
       "      <td>Anne Rice</td>\n",
       "      <td>Horror</td>\n",
       "      <td>http://books.google.com/books/content?id=cIn8T...</td>\n",
       "      <td>Lestat Is Back, Saviour And Demon, Presiding O...</td>\n",
       "      <td>2003.0</td>\n",
       "      <td>3.86</td>\n",
       "      <td>774.0</td>\n",
       "      <td>26145.0</td>\n",
       "      <td>Blackwood Farm</td>\n",
       "      <td>9780099446729 Lestat Is Back, Saviour And Demo...</td>\n",
       "      <td>Fiction</td>\n",
       "    </tr>\n",
       "    <tr>\n",
       "      <th>1090</th>\n",
       "      <td>9780261102422</td>\n",
       "      <td>0261102427</td>\n",
       "      <td>The Silmarillion</td>\n",
       "      <td>John Ronald Reuel Tolkien</td>\n",
       "      <td>Fantasy</td>\n",
       "      <td>http://books.google.com/books/content?id=22ePu...</td>\n",
       "      <td>Tolkien's Silmarillion is the core work of the...</td>\n",
       "      <td>1999.0</td>\n",
       "      <td>3.91</td>\n",
       "      <td>384.0</td>\n",
       "      <td>253.0</td>\n",
       "      <td>The Silmarillion</td>\n",
       "      <td>9780261102422 Tolkien's Silmarillion is the co...</td>\n",
       "      <td>Fiction</td>\n",
       "    </tr>\n",
       "    <tr>\n",
       "      <th>1435</th>\n",
       "      <td>9780340837955</td>\n",
       "      <td>0340837950</td>\n",
       "      <td>Stranger in a Strange Land</td>\n",
       "      <td>Robert A. Heinlein</td>\n",
       "      <td>Science fiction</td>\n",
       "      <td>http://books.google.com/books/content?id=ZQhiP...</td>\n",
       "      <td>Epic, entertaining, Stranger in a Strange Land...</td>\n",
       "      <td>2005.0</td>\n",
       "      <td>3.92</td>\n",
       "      <td>672.0</td>\n",
       "      <td>563.0</td>\n",
       "      <td>Stranger in a Strange Land</td>\n",
       "      <td>9780340837955 Epic, entertaining, Stranger in ...</td>\n",
       "      <td>Fiction</td>\n",
       "    </tr>\n",
       "    <tr>\n",
       "      <th>1439</th>\n",
       "      <td>9780345251220</td>\n",
       "      <td>0345251229</td>\n",
       "      <td>Visions from Nowhere</td>\n",
       "      <td>William Arrow</td>\n",
       "      <td>Science fiction</td>\n",
       "      <td>NaN</td>\n",
       "      <td>The first novel in the series, \"Return to the ...</td>\n",
       "      <td>1976.0</td>\n",
       "      <td>3.23</td>\n",
       "      <td>183.0</td>\n",
       "      <td>10.0</td>\n",
       "      <td>Visions from Nowhere</td>\n",
       "      <td>9780345251220 The first novel in the series, \"...</td>\n",
       "      <td>Fiction</td>\n",
       "    </tr>\n",
       "    <tr>\n",
       "      <th>2845</th>\n",
       "      <td>9780575075597</td>\n",
       "      <td>0575075597</td>\n",
       "      <td>Replay</td>\n",
       "      <td>Ken Grimwood</td>\n",
       "      <td>Fantasy</td>\n",
       "      <td>http://books.google.com/books/content?id=9vmNP...</td>\n",
       "      <td>At forty-three Jeff Winston is tired of his lo...</td>\n",
       "      <td>2005.0</td>\n",
       "      <td>4.16</td>\n",
       "      <td>272.0</td>\n",
       "      <td>412.0</td>\n",
       "      <td>Replay</td>\n",
       "      <td>9780575075597 At forty-three Jeff Winston is t...</td>\n",
       "      <td>Fiction</td>\n",
       "    </tr>\n",
       "    <tr>\n",
       "      <th>2860</th>\n",
       "      <td>9780590254762</td>\n",
       "      <td>0590254766</td>\n",
       "      <td>The lion, the witch and the wardrobe</td>\n",
       "      <td>Clive Staples Lewis</td>\n",
       "      <td>Fantasy</td>\n",
       "      <td>NaN</td>\n",
       "      <td>Four English school children enter the magic l...</td>\n",
       "      <td>1995.0</td>\n",
       "      <td>4.21</td>\n",
       "      <td>189.0</td>\n",
       "      <td>860.0</td>\n",
       "      <td>The lion, the witch and the wardrobe</td>\n",
       "      <td>9780590254762 Four English school children ent...</td>\n",
       "      <td>Nonfiction</td>\n",
       "    </tr>\n",
       "    <tr>\n",
       "      <th>3288</th>\n",
       "      <td>9780739423851</td>\n",
       "      <td>0739423851</td>\n",
       "      <td>Wizard's Castle</td>\n",
       "      <td>Diana Wynne Jones</td>\n",
       "      <td>Fantasy</td>\n",
       "      <td>http://books.google.com/books/content?id=hB7hA...</td>\n",
       "      <td>Howl's moving castle - Eldest of three sisters...</td>\n",
       "      <td>2002.0</td>\n",
       "      <td>4.44</td>\n",
       "      <td>376.0</td>\n",
       "      <td>439.0</td>\n",
       "      <td>Wizard's Castle</td>\n",
       "      <td>9780739423851 Howl's moving castle - Eldest of...</td>\n",
       "      <td>Fiction</td>\n",
       "    </tr>\n",
       "    <tr>\n",
       "      <th>3289</th>\n",
       "      <td>9780739439708</td>\n",
       "      <td>0739439707</td>\n",
       "      <td>Time Quartet</td>\n",
       "      <td>Madeleine L'Engle</td>\n",
       "      <td>Science fiction</td>\n",
       "      <td>NaN</td>\n",
       "      <td>Blending magic with quantum physics, Madeleine...</td>\n",
       "      <td>2003.0</td>\n",
       "      <td>4.35</td>\n",
       "      <td>646.0</td>\n",
       "      <td>165.0</td>\n",
       "      <td>Time Quartet</td>\n",
       "      <td>9780739439708 Blending magic with quantum phys...</td>\n",
       "      <td>Fiction</td>\n",
       "    </tr>\n",
       "    <tr>\n",
       "      <th>3563</th>\n",
       "      <td>9780760728505</td>\n",
       "      <td>076072850X</td>\n",
       "      <td>20,000 Leagues Under the Sea</td>\n",
       "      <td>Jules Verne</td>\n",
       "      <td>Science fiction</td>\n",
       "      <td>NaN</td>\n",
       "      <td>Retells the adventures of a French professor a...</td>\n",
       "      <td>2002.0</td>\n",
       "      <td>3.88</td>\n",
       "      <td>394.0</td>\n",
       "      <td>135778.0</td>\n",
       "      <td>20,000 Leagues Under the Sea</td>\n",
       "      <td>9780760728505 Retells the adventures of a Fren...</td>\n",
       "      <td>Fiction</td>\n",
       "    </tr>\n",
       "    <tr>\n",
       "      <th>4483</th>\n",
       "      <td>9781416502043</td>\n",
       "      <td>1416502041</td>\n",
       "      <td>The Voyage of the Jerle Shannara Trilogy</td>\n",
       "      <td>Terry Brooks</td>\n",
       "      <td>Fantasy</td>\n",
       "      <td>http://books.google.com/books/content?id=jqVsA...</td>\n",
       "      <td>When the body of a half-drowned elf is found f...</td>\n",
       "      <td>2004.0</td>\n",
       "      <td>4.26</td>\n",
       "      <td>1260.0</td>\n",
       "      <td>84.0</td>\n",
       "      <td>The Voyage of the Jerle Shannara Trilogy</td>\n",
       "      <td>9781416502043 When the body of a half-drowned ...</td>\n",
       "      <td>Fiction</td>\n",
       "    </tr>\n",
       "    <tr>\n",
       "      <th>4979</th>\n",
       "      <td>9781841494081</td>\n",
       "      <td>1841494089</td>\n",
       "      <td>The Darkness that Comes Before</td>\n",
       "      <td>R. Scott Bakker</td>\n",
       "      <td>Fantasy</td>\n",
       "      <td>http://books.google.com/books/content?id=BG8qG...</td>\n",
       "      <td>A score of centuries has passed since the Firs...</td>\n",
       "      <td>2005.0</td>\n",
       "      <td>3.79</td>\n",
       "      <td>638.0</td>\n",
       "      <td>317.0</td>\n",
       "      <td>The Darkness that Comes Before</td>\n",
       "      <td>9781841494081 A score of centuries has passed ...</td>\n",
       "      <td>Nonfiction</td>\n",
       "    </tr>\n",
       "    <tr>\n",
       "      <th>5040</th>\n",
       "      <td>9781857231359</td>\n",
       "      <td>185723135X</td>\n",
       "      <td>Use of Weapons</td>\n",
       "      <td>Iain Banks</td>\n",
       "      <td>Science fiction</td>\n",
       "      <td>NaN</td>\n",
       "      <td>The man known as Cheradenine Zakalwe was one o...</td>\n",
       "      <td>1992.0</td>\n",
       "      <td>4.19</td>\n",
       "      <td>411.0</td>\n",
       "      <td>30779.0</td>\n",
       "      <td>Use of Weapons</td>\n",
       "      <td>9781857231359 The man known as Cheradenine Zak...</td>\n",
       "      <td>Nonfiction</td>\n",
       "    </tr>\n",
       "    <tr>\n",
       "      <th>5057</th>\n",
       "      <td>9781857989342</td>\n",
       "      <td>1857989341</td>\n",
       "      <td>The Gods Themselves</td>\n",
       "      <td>Isaac Asimov</td>\n",
       "      <td>Science fiction</td>\n",
       "      <td>http://books.google.com/books/content?id=8ClIP...</td>\n",
       "      <td>In the year 2100, mankind on Earth, settlers i...</td>\n",
       "      <td>2000.0</td>\n",
       "      <td>4.09</td>\n",
       "      <td>288.0</td>\n",
       "      <td>41304.0</td>\n",
       "      <td>The Gods Themselves</td>\n",
       "      <td>9781857989342 In the year 2100, mankind on Ear...</td>\n",
       "      <td>Fiction</td>\n",
       "    </tr>\n",
       "  </tbody>\n",
       "</table>\n",
       "</div>"
      ],
      "text/plain": [
       "             isbn13      isbn10                                     title  \\\n",
       "24    9780006513087  0006513085                                   Gravity   \n",
       "475   9780099410355  0099410354                                   Traitor   \n",
       "478   9780099422341  0099422344                            Yeats is Dead!   \n",
       "491   9780099446729  0099446723                            Blackwood Farm   \n",
       "1090  9780261102422  0261102427                          The Silmarillion   \n",
       "1435  9780340837955  0340837950                Stranger in a Strange Land   \n",
       "1439  9780345251220  0345251229                      Visions from Nowhere   \n",
       "2845  9780575075597  0575075597                                    Replay   \n",
       "2860  9780590254762  0590254766      The lion, the witch and the wardrobe   \n",
       "3288  9780739423851  0739423851                           Wizard's Castle   \n",
       "3289  9780739439708  0739439707                              Time Quartet   \n",
       "3563  9780760728505  076072850X              20,000 Leagues Under the Sea   \n",
       "4483  9781416502043  1416502041  The Voyage of the Jerle Shannara Trilogy   \n",
       "4979  9781841494081  1841494089            The Darkness that Comes Before   \n",
       "5040  9781857231359  185723135X                            Use of Weapons   \n",
       "5057  9781857989342  1857989341                       The Gods Themselves   \n",
       "\n",
       "                        authors       categories  \\\n",
       "24               Tess Gerritsen  Science fiction   \n",
       "475     Matthew Woodring Stover  Science fiction   \n",
       "478             Joseph O'Connor           Comedy   \n",
       "491                   Anne Rice           Horror   \n",
       "1090  John Ronald Reuel Tolkien          Fantasy   \n",
       "1435         Robert A. Heinlein  Science fiction   \n",
       "1439              William Arrow  Science fiction   \n",
       "2845               Ken Grimwood          Fantasy   \n",
       "2860        Clive Staples Lewis          Fantasy   \n",
       "3288          Diana Wynne Jones          Fantasy   \n",
       "3289          Madeleine L'Engle  Science fiction   \n",
       "3563                Jules Verne  Science fiction   \n",
       "4483               Terry Brooks          Fantasy   \n",
       "4979            R. Scott Bakker          Fantasy   \n",
       "5040                 Iain Banks  Science fiction   \n",
       "5057               Isaac Asimov  Science fiction   \n",
       "\n",
       "                                              thumbnail  \\\n",
       "24    http://books.google.com/books/content?id=KI66c...   \n",
       "475   http://books.google.com/books/content?id=VbICO...   \n",
       "478   http://books.google.com/books/content?id=DrE3I...   \n",
       "491   http://books.google.com/books/content?id=cIn8T...   \n",
       "1090  http://books.google.com/books/content?id=22ePu...   \n",
       "1435  http://books.google.com/books/content?id=ZQhiP...   \n",
       "1439                                                NaN   \n",
       "2845  http://books.google.com/books/content?id=9vmNP...   \n",
       "2860                                                NaN   \n",
       "3288  http://books.google.com/books/content?id=hB7hA...   \n",
       "3289                                                NaN   \n",
       "3563                                                NaN   \n",
       "4483  http://books.google.com/books/content?id=jqVsA...   \n",
       "4979  http://books.google.com/books/content?id=BG8qG...   \n",
       "5040                                                NaN   \n",
       "5057  http://books.google.com/books/content?id=8ClIP...   \n",
       "\n",
       "                                            description  published_year  \\\n",
       "24    Emma Watson a research physician has been trai...          2004.0   \n",
       "475   From the depths of catastrophe, a glimmer of h...          2002.0   \n",
       "478   In aid of Amnesty International, this is a bri...          2002.0   \n",
       "491   Lestat Is Back, Saviour And Demon, Presiding O...          2003.0   \n",
       "1090  Tolkien's Silmarillion is the core work of the...          1999.0   \n",
       "1435  Epic, entertaining, Stranger in a Strange Land...          2005.0   \n",
       "1439  The first novel in the series, \"Return to the ...          1976.0   \n",
       "2845  At forty-three Jeff Winston is tired of his lo...          2005.0   \n",
       "2860  Four English school children enter the magic l...          1995.0   \n",
       "3288  Howl's moving castle - Eldest of three sisters...          2002.0   \n",
       "3289  Blending magic with quantum physics, Madeleine...          2003.0   \n",
       "3563  Retells the adventures of a French professor a...          2002.0   \n",
       "4483  When the body of a half-drowned elf is found f...          2004.0   \n",
       "4979  A score of centuries has passed since the Firs...          2005.0   \n",
       "5040  The man known as Cheradenine Zakalwe was one o...          1992.0   \n",
       "5057  In the year 2100, mankind on Earth, settlers i...          2000.0   \n",
       "\n",
       "      average_rating  num_pages  ratings_count  \\\n",
       "24              4.04      342.0         8024.0   \n",
       "475             4.00      320.0         6765.0   \n",
       "478             3.39      298.0           34.0   \n",
       "491             3.86      774.0        26145.0   \n",
       "1090            3.91      384.0          253.0   \n",
       "1435            3.92      672.0          563.0   \n",
       "1439            3.23      183.0           10.0   \n",
       "2845            4.16      272.0          412.0   \n",
       "2860            4.21      189.0          860.0   \n",
       "3288            4.44      376.0          439.0   \n",
       "3289            4.35      646.0          165.0   \n",
       "3563            3.88      394.0       135778.0   \n",
       "4483            4.26     1260.0           84.0   \n",
       "4979            3.79      638.0          317.0   \n",
       "5040            4.19      411.0        30779.0   \n",
       "5057            4.09      288.0        41304.0   \n",
       "\n",
       "                                    title_and_subtitle  \\\n",
       "24                                             Gravity   \n",
       "475                                            Traitor   \n",
       "478   Yeats is Dead!: A Novel by Fifteen Irish Writers   \n",
       "491                                     Blackwood Farm   \n",
       "1090                                  The Silmarillion   \n",
       "1435                        Stranger in a Strange Land   \n",
       "1439                              Visions from Nowhere   \n",
       "2845                                            Replay   \n",
       "2860              The lion, the witch and the wardrobe   \n",
       "3288                                   Wizard's Castle   \n",
       "3289                                      Time Quartet   \n",
       "3563                      20,000 Leagues Under the Sea   \n",
       "4483          The Voyage of the Jerle Shannara Trilogy   \n",
       "4979                    The Darkness that Comes Before   \n",
       "5040                                    Use of Weapons   \n",
       "5057                               The Gods Themselves   \n",
       "\n",
       "                                     tagged_description simple_categories  \n",
       "24    9780006513087 Emma Watson a research physician...        Nonfiction  \n",
       "475   9780099410355 From the depths of catastrophe, ...           Fiction  \n",
       "478   9780099422341 In aid of Amnesty International,...           Fiction  \n",
       "491   9780099446729 Lestat Is Back, Saviour And Demo...           Fiction  \n",
       "1090  9780261102422 Tolkien's Silmarillion is the co...           Fiction  \n",
       "1435  9780340837955 Epic, entertaining, Stranger in ...           Fiction  \n",
       "1439  9780345251220 The first novel in the series, \"...           Fiction  \n",
       "2845  9780575075597 At forty-three Jeff Winston is t...           Fiction  \n",
       "2860  9780590254762 Four English school children ent...        Nonfiction  \n",
       "3288  9780739423851 Howl's moving castle - Eldest of...           Fiction  \n",
       "3289  9780739439708 Blending magic with quantum phys...           Fiction  \n",
       "3563  9780760728505 Retells the adventures of a Fren...           Fiction  \n",
       "4483  9781416502043 When the body of a half-drowned ...           Fiction  \n",
       "4979  9781841494081 A score of centuries has passed ...        Nonfiction  \n",
       "5040  9781857231359 The man known as Cheradenine Zak...        Nonfiction  \n",
       "5057  9781857989342 In the year 2100, mankind on Ear...           Fiction  "
      ]
     },
     "execution_count": 28,
     "metadata": {},
     "output_type": "execute_result"
    }
   ],
   "source": [
    "books[books[\"categories\"].str.lower().isin([\n",
    "    \"romance\",\n",
    "    \"science fiction\",\n",
    "    \"scifi\",\n",
    "    \"fantasy\",\n",
    "    \"horror\",\n",
    "    \"mystery\",\n",
    "    \"thriller\",\n",
    "    \"comedy\",\n",
    "    \"crime\",\n",
    "    \"historical\"\n",
    "])]"
   ]
  },
  {
   "cell_type": "code",
   "execution_count": 29,
   "id": "5fba504bb7d6e93d",
   "metadata": {
    "ExecuteTime": {
     "end_time": "2024-12-19T10:00:38.506659Z",
     "start_time": "2024-12-19T10:00:38.438623Z"
    }
   },
   "outputs": [],
   "source": [
    "books.to_csv(\"books_with_categories.csv\", index=False)"
   ]
  }
 ],
 "metadata": {
  "kernelspec": {
   "display_name": "Python 3",
   "language": "python",
   "name": "python3"
  },
  "language_info": {
   "codemirror_mode": {
    "name": "ipython",
    "version": 2
   },
   "file_extension": ".py",
   "mimetype": "text/x-python",
   "name": "python",
   "nbconvert_exporter": "python",
   "pygments_lexer": "ipython2",
   "version": "2.7.6"
  }
 },
 "nbformat": 4,
 "nbformat_minor": 5
}
